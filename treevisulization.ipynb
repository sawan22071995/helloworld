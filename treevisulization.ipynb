{
 "cells": [
  {
   "cell_type": "code",
   "execution_count": 3,
   "metadata": {},
   "outputs": [],
   "source": [
    "import pandas as pd\n",
    "from sklearn.tree import DecisionTreeClassifier\n",
    "from sklearn import tree\n",
    "\n",
    "music_data=pd.read_csv('music.csv')\n",
    "#prepared data for input set without genre column\n",
    "X=music_data.drop(columns=['genre'])\n",
    "#prepared data for output columns with only genre column\n",
    "y=music_data['genre']\n",
    "\n",
    "#create instance of decision tree class\n",
    "model=DecisionTreeClassifier()\n",
    "\n",
    "#provide mode to input set(X) and output set(y) pair\n",
    "model.fit(X,y)\n",
    "\n",
    "#to see the graphical representaion of the model\n",
    "tree.export_graphviz(model,out_file='music-recommender.dot',\n",
    "                    class_names=sorted(y.unique()),\n",
    "                    label='all',\n",
    "                    rounded=True,\n",
    "                    filled=True)\n",
    "\n",
    "\n"
   ]
  },
  {
   "cell_type": "code",
   "execution_count": null,
   "metadata": {},
   "outputs": [],
   "source": []
  }
 ],
 "metadata": {
  "kernelspec": {
   "display_name": "Python 3",
   "language": "python",
   "name": "python3"
  },
  "language_info": {
   "codemirror_mode": {
    "name": "ipython",
    "version": 3
   },
   "file_extension": ".py",
   "mimetype": "text/x-python",
   "name": "python",
   "nbconvert_exporter": "python",
   "pygments_lexer": "ipython3",
   "version": "3.8.2"
  }
 },
 "nbformat": 4,
 "nbformat_minor": 4
}
